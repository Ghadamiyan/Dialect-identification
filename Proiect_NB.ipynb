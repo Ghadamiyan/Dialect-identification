{
 "cells": [
  {
   "cell_type": "code",
   "execution_count": 2,
   "metadata": {},
   "outputs": [],
   "source": [
    "# Citire date\n",
    "\n",
    "# Dupa ce antrenez modelul pe datele de train si testez pe cele de validare, pentru submisia finala\n",
    "# folosesc si datele de validare ca date de antrenare. Aici unesc fisierele\n",
    "import pandas as pd\n",
    "\n",
    "filenames = ['ProiectML\\\\train_samples.txt','ProiectML\\\\validation_samples.txt']\n",
    "with open('ProiectML\\\\my_train_samples.txt', 'w') as outfile:\n",
    "    for fname in filenames:\n",
    "        with open(fname) as infile:\n",
    "            for line in infile:\n",
    "                outfile.write(line)\n",
    "                \n",
    "filenames = ['ProiectML\\\\train_labels.txt','ProiectML\\\\validation_labels.txt']\n",
    "with open('ProiectML\\\\my_train_labels.txt', 'w') as outfile:\n",
    "    for fname in filenames:\n",
    "        with open(fname) as infile:\n",
    "            for line in infile:\n",
    "                outfile.write(line)\n",
    "                \n",
    "df = pd.read_fwf(\"ProiectML\\\\my_train_samples.txt\", sep='\\t', header=None)\n",
    "df_labels = pd.read_csv(\"ProiectML\\\\my_train_labels.txt\", sep='\\t', header=None)\n",
    "\n",
    "df_merged = pd.merge(df, df_labels, left_on=0, right_on=0) # Inner join intre samples si labels (dupa col 0)"
   ]
  },
  {
   "cell_type": "code",
   "execution_count": 4,
   "metadata": {},
   "outputs": [],
   "source": [
    "# https://scikit-learn.org/stable/tutorial/text_analytics/working_with_text_data.html\n",
    "# Tochenizare - construiesc un dictionar de features si transorm doc in vectori de features\n",
    "from sklearn.feature_extraction.text import CountVectorizer \n",
    "cvect = CountVectorizer(ngram_range=(1, 2))   \n",
    "train_data1 = cvect.fit_transform(df_merged['1_x'].values)\n",
    "  \n",
    "# Term frequencies - pana acum aveam aparitia cuv, acum iau frecventa\n",
    "from sklearn.feature_extraction.text import TfidfTransformer\n",
    "tfidf_transformer = TfidfTransformer(norm= 'l2', use_idf= False)\n",
    "train_data = tfidf_transformer.fit_transform(train_data1)\n",
    "\n",
    "# Definesc modelul\n",
    "from sklearn.naive_bayes import MultinomialNB  \n",
    "cls = MultinomialNB(alpha = 0.1)\n",
    "cls.fit(train_data, df_merged['1_y'].values) # Antrenez modelul\n",
    "\n",
    "# Aplic pentru test\n",
    "df_test = pd.read_fwf(\"ProiectML\\\\test_samples.txt\", sep='\\t', header=None)\n",
    "\n",
    "test_data1 = cvect.transform(df_test[1].values)\n",
    "test_data = tfidf_transformer.transform(test_data1)\n",
    "prediction = cls.predict(test_data)\n",
    "\n",
    "final_df = pd.DataFrame({'id': df_test[0].values,\n",
    "                         'label': prediction\n",
    "                        })\n",
    "\n",
    "final_df.to_csv('SUBM_PtMAINE_OFICIAL.csv', index=False)"
   ]
  },
  {
   "cell_type": "code",
   "execution_count": null,
   "metadata": {},
   "outputs": [],
   "source": []
  }
 ],
 "metadata": {
  "kernelspec": {
   "display_name": "Python 3",
   "language": "python",
   "name": "python3"
  },
  "language_info": {
   "codemirror_mode": {
    "name": "ipython",
    "version": 3
   },
   "file_extension": ".py",
   "mimetype": "text/x-python",
   "name": "python",
   "nbconvert_exporter": "python",
   "pygments_lexer": "ipython3",
   "version": "3.7.6"
  }
 },
 "nbformat": 4,
 "nbformat_minor": 4
}
