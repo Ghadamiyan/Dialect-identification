{
 "cells": [
  {
   "cell_type": "code",
   "execution_count": 13,
   "metadata": {},
   "outputs": [
    {
     "name": "stdout",
     "output_type": "stream",
     "text": [
      "0.6980696436506312\n",
      "{'cls__alpha': 0.1, 'cvect__ngram_range': (1, 2), 'tfidf_transformer__norm': 'l2', 'tfidf_transformer__use_idf': False}\n"
     ]
    }
   ],
   "source": [
    "# Citesc datele pe care urmeaza sa le folosesc pentru submisia finala si pentru care aplic grid search\n",
    "\n",
    "import pandas as pd\n",
    "filenames = ['ProiectML\\\\train_samples.txt','ProiectML\\\\validation_samples.txt']\n",
    "with open('ProiectML\\\\my_train_samples.txt', 'w') as outfile:\n",
    "    for fname in filenames:\n",
    "        with open(fname) as infile:\n",
    "            for line in infile:\n",
    "                outfile.write(line)\n",
    "                \n",
    "filenames = ['ProiectML\\\\train_labels.txt','ProiectML\\\\validation_labels.txt']\n",
    "with open('ProiectML\\\\my_train_labels.txt', 'w') as outfile:\n",
    "    for fname in filenames:\n",
    "        with open(fname) as infile:\n",
    "            for line in infile:\n",
    "                outfile.write(line)\n",
    "              \n",
    "            \n",
    "df = pd.read_fwf(\"ProiectML\\\\my_train_samples.txt\", sep='\\t', header=None)\n",
    "df_labels = pd.read_csv(\"ProiectML\\\\my_train_labels.txt\", sep='\\t', header=None)\n",
    "\n",
    "df_merged = pd.merge(df, df_labels, left_on=0, right_on=0)  #Inner join\n",
    "\n",
    "# Aplic grid search ca sa gasesc cei mai buni parametrii pentru datele de mai sus\n",
    "\n",
    "from sklearn.model_selection import GridSearchCV \n",
    "from sklearn.pipeline import Pipeline \n",
    "from sklearn.feature_extraction.text import CountVectorizer\n",
    "from sklearn.feature_extraction.text import TfidfTransformer\n",
    "from sklearn.naive_bayes import MultinomialNB\n",
    "\n",
    "text_clf = Pipeline([('cvect', CountVectorizer()), \n",
    "                     ('tfidf_transformer', TfidfTransformer()), \n",
    "                     ('cls', MultinomialNB())]) \n",
    "parameters = { 'cvect__ngram_range': [(1, 1), (1, 2), (2, 2)], \n",
    "              'tfidf_transformer__use_idf': (True, False), \n",
    "              'tfidf_transformer__norm': ('l1', 'l2'), \n",
    "              'cls__alpha': [1, 1e-1, 1e-2, 1e-3] } \n",
    "grid_search= GridSearchCV(text_clf, parameters, cv =10,n_jobs = -1) \n",
    "grid_search.fit(df_merged['1_x'].values, df_merged['1_y'].values) \n",
    "print(grid_search.best_score_) \n",
    "print(grid_search.best_params_)"
   ]
  },
  {
   "cell_type": "markdown",
   "metadata": {},
   "source": [
    "0.6980696436506312\n",
    "{'cls__alpha': 0.1, 'cvect__ngram_range': (1, 2), 'tfidf_transformer__norm': 'l2', 'tfidf_transformer__use_idf': False}"
   ]
  },
  {
   "cell_type": "code",
   "execution_count": 14,
   "metadata": {},
   "outputs": [
    {
     "name": "stdout",
     "output_type": "stream",
     "text": [
      "              precision    recall  f1-score   support\n",
      "\n",
      "           0       0.67      0.67      0.67      1305\n",
      "           1       0.68      0.68      0.68      1351\n",
      "\n",
      "    accuracy                           0.68      2656\n",
      "   macro avg       0.68      0.68      0.68      2656\n",
      "weighted avg       0.68      0.68      0.68      2656\n",
      "\n",
      "MATRICEA DE CONFUZIE:\n",
      "[[872 433]\n",
      " [429 922]]\n"
     ]
    }
   ],
   "source": [
    "# Verific pe datele de validare\n",
    "\n",
    "import pandas as pd\n",
    "df = pd.read_fwf(\"ProiectML\\\\train_samples.txt\", sep='\\t', header=None)\n",
    "df_labels = pd.read_csv(\"ProiectML\\\\train_labels.txt\", sep='\\t', header=None)\n",
    "\n",
    "df_merged = pd.merge(df, df_labels, left_on=0, right_on=0) # Inner join intre samples si labels (dupa col 0)\n",
    "\n",
    "    \n",
    "# https://scikit-learn.org/stable/tutorial/text_analytics/working_with_text_data.html\n",
    "# Tochenizare - construiesc un dictionar de features si transorm doc in vectori de features\n",
    "from sklearn.feature_extraction.text import CountVectorizer \n",
    "cvect = CountVectorizer(ngram_range=(1, 2))   \n",
    "train_data1 = cvect.fit_transform(df_merged['1_x'].values)\n",
    "  \n",
    "# Term frequencies - pana acum aveam aparitia cuv, acum iau frecventa\n",
    "from sklearn.feature_extraction.text import TfidfTransformer\n",
    "tfidf_transformer = TfidfTransformer(norm= 'l2', use_idf= False)\n",
    "train_data = tfidf_transformer.fit_transform(train_data1)\n",
    "\n",
    "# Definesc si antrenez modelul\n",
    "from sklearn.naive_bayes import MultinomialNB  \n",
    "cls = MultinomialNB(alpha = 0.1)\n",
    "cls.fit(train_data, df_merged['1_y'].values) \n",
    "\n",
    "# Citesc datele de vaidare cu acelasi procedeu, fara sa le includ in dictionar\n",
    "val_data_df = pd.read_fwf(\"ProiectML\\\\validation_samples.txt\", sep='\\t', header=None, encoding = 'utf8')\n",
    "val_labels_df = pd.read_csv(\"ProiectML\\\\validation_labels.txt\", sep='\\t', header=None)\n",
    "\n",
    "df_merged_val = pd.merge(val_data_df, val_labels_df, left_on=0, right_on=0)\n",
    "\n",
    "val_data1 = cvect.transform(val_data_df[1].values)\n",
    "val_data = tfidf_transformer.transform(val_data1)\n",
    "\n",
    "predictionn = cls.predict(val_data)\n",
    "\n",
    "# Afisez matricea de confuzie si raportul\n",
    "from sklearn import metrics\n",
    "print(metrics.classification_report(predictionn, df_merged_val['1_y'].values))\n",
    "print(\"MATRICEA DE CONFUZIE:\")\n",
    "print(metrics.confusion_matrix(predictionn, df_merged_val['1_y'].values))\n"
   ]
  },
  {
   "cell_type": "markdown",
   "metadata": {},
   "source": [
    "              precision    recall  f1-score   support\n",
    "\n",
    "           0       0.67      0.67      0.67      1305\n",
    "           1       0.68      0.68      0.68      1351\n",
    "\n",
    "    accuracy                           0.68      2656\n",
    "   macro avg       0.68      0.68      0.68      2656\n",
    "weighted avg       0.68      0.68      0.68      2656\n",
    "\n",
    "MATRICEA DE CONFUZIE:\n",
    "[[872 433]\n",
    " [429 922]]"
   ]
  },
  {
   "cell_type": "code",
   "execution_count": null,
   "metadata": {},
   "outputs": [],
   "source": []
  }
 ],
 "metadata": {
  "kernelspec": {
   "display_name": "Python 3",
   "language": "python",
   "name": "python3"
  },
  "language_info": {
   "codemirror_mode": {
    "name": "ipython",
    "version": 3
   },
   "file_extension": ".py",
   "mimetype": "text/x-python",
   "name": "python",
   "nbconvert_exporter": "python",
   "pygments_lexer": "ipython3",
   "version": "3.7.6"
  }
 },
 "nbformat": 4,
 "nbformat_minor": 4
}
